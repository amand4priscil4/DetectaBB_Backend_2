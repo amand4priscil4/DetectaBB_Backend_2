{
 "cells": [
  {
   "cell_type": "markdown",
   "id": "ee1c663a",
   "metadata": {},
   "source": [
    "# # Treinamento do Modelo de Detecção de Boletos"
   ]
  },
  {
   "cell_type": "markdown",
   "id": "7a685e78",
   "metadata": {},
   "source": [
    "### Imports"
   ]
  },
  {
   "cell_type": "code",
   "execution_count": 33,
   "id": "d5de3140",
   "metadata": {},
   "outputs": [],
   "source": [
    "import pandas as pd\n",
    "import json\n",
    "import numpy as np\n",
    "from sklearn.ensemble import RandomForestClassifier\n",
    "from sklearn.model_selection import train_test_split\n",
    "from sklearn.metrics import accuracy_score, classification_report, confusion_matrix\n",
    "from sklearn.metrics import ConfusionMatrixDisplay\n",
    "import matplotlib.pyplot as plt\n",
    "import pickle\n",
    "import shap\n",
    "import os\n"
   ]
  },
  {
   "cell_type": "code",
   "execution_count": 34,
   "id": "2fa5dfa7",
   "metadata": {},
   "outputs": [],
   "source": [
    "MODEL_PATH = r'C:\\Users\\toyst\\Documents\\Projetos\\Projeto da Residência - Banco do Brasil(2025.2)\\backend\\detectaBB_backend\\modelo_boleto.pkl'"
   ]
  },
  {
   "cell_type": "markdown",
   "id": "4cec88de",
   "metadata": {},
   "source": [
    "### # 2. Carregamento e Prepara os Dados"
   ]
  },
  {
   "cell_type": "code",
   "execution_count": 35,
   "id": "03180181",
   "metadata": {},
   "outputs": [
    {
     "name": "stdout",
     "output_type": "stream",
     "text": [
      "Dados carregados:\n",
      "Colunas originais: ['banco', 'codigoBanco', 'agencia', 'valor', 'linhaDigitavel', 'classe']\n",
      "  banco codigoBanco agencia   valor  \\\n",
      "0  Itaú         341    0773  890.00   \n",
      "1  Itaú         341    0773  467.00   \n",
      "2  Itaú         341    0773  230.00   \n",
      "3  Itaú         341    0773  986.00   \n",
      "4  Itaú         341    0773  766.00   \n",
      "\n",
      "                                      linhaDigitavel  \\\n",
      "0  34190.00000 00000.000000 00000.000000 0 000000...   \n",
      "1  34190.00000 00000.000000 00000.000000 0 000000...   \n",
      "2  34190.00000 00000.000000 00000.000000 0 000000...   \n",
      "3  34190.00000 00000.000000 00000.000000 0 000000...   \n",
      "4  34190.00000 00000.000000 00000.000000 0 000000...   \n",
      "\n",
      "                       classe  \n",
      "0  caracteristicasVerdadeiras  \n",
      "1  caracteristicasVerdadeiras  \n",
      "2  caracteristicasVerdadeiras  \n",
      "3  caracteristicasVerdadeiras  \n",
      "4  caracteristicasVerdadeiras  \n"
     ]
    }
   ],
   "source": [
    "try:\n",
    "    with open('completos.json', 'r', encoding='utf-8') as f:\n",
    "        dados = json.load(f)\n",
    "except FileNotFoundError:\n",
    "    print(\"Erro: Arquivo completos.json não encontrado.\")\n",
    "    # exit(1)\n",
    "    raise\n",
    "\n",
    "df = pd.DataFrame(dados)\n",
    "print('Dados carregados:')\n",
    "print(\"Colunas originais:\", df.columns.tolist())\n",
    "\n",
    "print(df.head())\n"
   ]
  },
  {
   "cell_type": "code",
   "execution_count": 36,
   "id": "e423ee88",
   "metadata": {},
   "outputs": [],
   "source": [
    "# Guardar o nome original do banco (string) antes de mapear para id numérico\n",
    "if 'banco' in df.columns:\n",
    "    df['banco_nome_original'] = df['banco']  # cópia para regras\n",
    "else:\n",
    "    df['banco_nome_original'] = None"
   ]
  },
  {
   "cell_type": "markdown",
   "id": "1e4db930",
   "metadata": {},
   "source": [
    "### # Mapear bancos para índices numéricos"
   ]
  },
  {
   "cell_type": "code",
   "execution_count": null,
   "id": "35b65c19",
   "metadata": {},
   "outputs": [],
   "source": [
    "\n",
    "\n",
    "\n",
    "# Mapeamento de nomes -> id (mantive o seu mapeamento)\n",
    "mapeamento_bancos = {\n",
    "    'Banco do Brasil': 0,\n",
    "    'Itaú': 1,\n",
    "    'Bradesco': 2,\n",
    "    'Santander': 3,\n",
    "    'Caixa Econômica': 4,\n",
    "    'Banco Digio S.A.': 5,\n",
    "    'CM CAPITAL MARKETS CORRETORA DE CÂMBIO, TÍTULOS E VALORES MOBILIÁRIOS LTDA': 6,\n",
    "    'Banco Clássico S.A.': 7,\n",
    "    'Credialiança Cooperativa de Crédito Rural': 8,\n",
    "    'CREDICOAMO CREDITO RURAL COOPERATIVA': 9,\n",
    "    # Bancos falsos / outros\n",
    "    'OLIVEIRA TRUST DISTRIBUIDORA DE TÍTULOS E VALORES MOBILIARIOS S.A.': 10,\n",
    "    'Pagseguro Internet S.A. – PagBank': 11,\n",
    "    'NU Pagamentos S.A. – Nubank': 12,\n",
    "    'ATIVA INVESTIMENTOS S.A. CORRETORA DE TÍTULOS, CÂMBIO E VALORES': 13,\n",
    "    'Banco Inbursa S.A.': 14,\n",
    "    'SOROCRED CRÉDITO, FINANCIAMENTO E INVESTIMENTO S.A.': 15,\n",
    "    'Banco Finaxis S.A.': 16,\n",
    "    'SOCRED S.A. – SOCIEDADE DE CRÉDITO AO MICROEMPREENDEDOR E À EMPRESA DE PEQUENO P': 17\n",
    "}\n",
    "# aplicar mapeamento (se for string no dataset)\n",
    "if df['banco'].dtype == object:\n",
    "    df['banco'] = df['banco'].map(mapeamento_bancos).fillna(0).astype(float)\n",
    "\n",
    "# Mapear target\n",
    "df['classe'] = df['classe'].map({\n",
    "    'caracteristicasVerdadeiras': 1,\n",
    "    'caracteristicasFalsas': 0\n",
    "}).astype(float)"
   ]
  },
  {
   "cell_type": "code",
   "execution_count": 38,
   "id": "0525430e",
   "metadata": {},
   "outputs": [
    {
     "name": "stdout",
     "output_type": "stream",
     "text": [
      "['banco', 'codigoBanco', 'agencia', 'valor', 'linhaDigitavel', 'classe', 'banco_nome_original']\n"
     ]
    }
   ],
   "source": [
    "print(df.columns.tolist())\n"
   ]
  },
  {
   "cell_type": "markdown",
   "id": "636e93bf",
   "metadata": {},
   "source": [
    "### # Processar linha digitável e selecionar as features"
   ]
  },
  {
   "cell_type": "code",
   "execution_count": null,
   "id": "ce6daccc",
   "metadata": {},
   "outputs": [
    {
     "name": "stdout",
     "output_type": "stream",
     "text": [
      "Shape X, y: (500, 7) (500,)\n",
      "Primeiras linhas das features:\n",
      "    banco  codigoBanco  agencia  valor  linha_codBanco  linha_moeda  \\\n",
      "0    1.0        341.0    773.0  890.0           341.0          9.0   \n",
      "1    1.0        341.0    773.0  467.0           341.0          9.0   \n",
      "2    1.0        341.0    773.0  230.0           341.0          9.0   \n",
      "3    1.0        341.0    773.0  986.0           341.0          9.0   \n",
      "4    1.0        341.0    773.0  766.0           341.0          9.0   \n",
      "\n",
      "   linha_valor  \n",
      "0      89000.0  \n",
      "1      46700.0  \n",
      "2      23000.0  \n",
      "3      98600.0  \n",
      "4      76600.0  \n"
     ]
    }
   ],
   "source": [
    "\n",
    "\n",
    "df['linhaDigitavel'] = df['linhaDigitavel'].astype(str).str.replace(' ', '').str.replace('.', '')\n",
    "df['linha_codBanco'] = df['linhaDigitavel'].str.slice(0, 3).fillna('0').astype(int)\n",
    "df['linha_moeda'] = df['linhaDigitavel'].str.slice(3, 4).fillna('9').astype(int)\n",
    "df['linha_valor'] = df['linhaDigitavel'].str.slice(-10).fillna('0').astype(int)\n",
    "\n",
    "# Converter colunas principais para tipos consistentes\n",
    "for col in ['codigoBanco', 'agencia', 'valor']:\n",
    "    if col in df.columns:\n",
    "        df[col] = pd.to_numeric(df[col], errors='coerce').fillna(0)\n",
    "\n",
    "# features usadas pelo modelo\n",
    "features = ['banco', 'codigoBanco', 'agencia', 'valor', 'linha_codBanco', 'linha_moeda', 'linha_valor']\n",
    "\n",
    "# garantir colunas existentes (criar zeros caso não exista)\n",
    "for c in features:\n",
    "    if c not in df.columns:\n",
    "        df[c] = 0\n",
    "\n",
    "X = df[features].astype(float)\n",
    "y = df['classe'].astype(int)\n",
    "\n",
    "print(\"Shape X, y:\", X.shape, y.shape)\n",
    "print(\"Primeiras linhas das features:\\n\", X.head())"
   ]
  },
  {
   "cell_type": "markdown",
   "id": "6d0a65ef",
   "metadata": {},
   "source": [
    "### Treinar o modelo"
   ]
  },
  {
   "cell_type": "code",
   "execution_count": null,
   "id": "92f3c0f2",
   "metadata": {},
   "outputs": [
    {
     "name": "stdout",
     "output_type": "stream",
     "text": [
      "Modelo carregado de C:\\Users\\toyst\\Documents\\Projetos\\Projeto da Residência - Banco do Brasil(2025.2)\\backend\\detectaBB_backend\\modelo_boleto.pkl\n",
      "Usando modelo carregado (não re-treinei aqui).\n"
     ]
    }
   ],
   "source": [
    "\n",
    "\n",
    "# Se já tiver o pkl salvo, opcionalmente carrega.\n",
    "if os.path.exists(MODEL_PATH):\n",
    "    try:\n",
    "        model = pickle.load(open(MODEL_PATH, 'rb'))\n",
    "        print(\"Modelo carregado de\", MODEL_PATH)\n",
    "    except Exception as e:\n",
    "        print(\"Falha ao carregar modelo salvo, vou treinar novo. Erro:\", e)\n",
    "        model = None\n",
    "else:\n",
    "    model = None\n",
    "\n",
    "if model is None:\n",
    "    X_train, X_test, y_train, y_test = train_test_split(X, y, test_size=0.2, random_state=42)\n",
    "    model = RandomForestClassifier(random_state=42, n_estimators=200)\n",
    "    model.fit(X_train, y_train)\n",
    "    y_pred = model.predict(X_test)\n",
    "    print(\"Acurácia:\", accuracy_score(y_test, y_pred))\n",
    "    print(classification_report(y_test, y_pred, target_names=['Falso','Verdadeiro']))\n",
    "    # salvar modelo\n",
    "    pickle.dump(model, open(MODEL_PATH, 'wb'))\n",
    "    print(\"Modelo treinado e salvo em\", MODEL_PATH)\n",
    "else:\n",
    "    # se carregou, opcional: avaliar contra X_test (se você tiver X_test separado)\n",
    "    print(\"Usando modelo carregado (não re-treinei aqui).\")\n"
   ]
  },
  {
   "cell_type": "markdown",
   "id": "14a32c7e",
   "metadata": {},
   "source": [
    "## Análise com SHAP - XAI"
   ]
  },
  {
   "cell_type": "code",
   "execution_count": null,
   "id": "63931f59",
   "metadata": {},
   "outputs": [],
   "source": [
    "# 5. Análise com SHAP\n",
    "explainer = shap.TreeExplainer(model)\n"
   ]
  },
  {
   "cell_type": "markdown",
   "id": "b5f78d38",
   "metadata": {},
   "source": [
    "## Regras determinísticas"
   ]
  },
  {
   "cell_type": "code",
   "execution_count": null,
   "id": "b2873d45",
   "metadata": {},
   "outputs": [],
   "source": [
    "# Mapeamento de nome->código do banco (string de 3 dígitos) — ajuste se preciso\n",
    "bancos_validos = {\n",
    "    \"Banco do Brasil\": \"001\",\n",
    "    \"Bradesco\": \"237\",\n",
    "    \"Itaú\": \"341\",\n",
    "    \"Caixa Econômica\": \"104\",\n",
    "    \"Santander\": \"033\",\n",
    "    \n",
    "}\n",
    "# Map id -> nome \n",
    "id_to_name = {v: k for k, v in mapeamento_bancos.items()}\n",
    "\n",
    "agencias_validas = {\n",
    "    \"Banco do Brasil\": [\"2889\", \"2811\", \"0007\", \"0325\", \"1620\"],\n",
    "    \"Bradesco\": [\"3201\", \"2560\", \"6083\", \"2322\", \"2300\"],\n",
    "    \"Itaú\": [\"0364\", \"3174\", \"0814\", \"1594\", \"0773\"],\n",
    "    \"Caixa Econômica\": [\"0045\", \"0047\", \"3484\", \"0923\", \"0867\"],\n",
    "    \"Santander\": [\"3295\", \"4419\", \"4159\", \"4048\", \"4052\"]\n",
    "}"
   ]
  },
  {
   "cell_type": "markdown",
   "id": "02001994",
   "metadata": {},
   "source": [
    "## # Plotar resumo para a classe 'Falso' (índice 0)"
   ]
  },
  {
   "cell_type": "code",
   "execution_count": null,
   "id": "136f9c76",
   "metadata": {},
   "outputs": [],
   "source": [
    "\n",
    "\n",
    "def regras_simples_check(dado_series):\n",
    "    \"\"\"Retorna dicionário com checks de regras e mensagens amigáveis (True = passa).\"\"\"\n",
    "    # dado_series é uma Series (1 amostra com colunas features)\n",
    "    res = {}\n",
    "    # 1) código do banco na linha vs codigoBanco (comparing ints)\n",
    "    try:\n",
    "        linha_cod = int(dado_series['linha_codBanco'])\n",
    "        cod = int(dado_series['codigoBanco'])\n",
    "        res['codigo_na_linha'] = (linha_cod == cod)\n",
    "    except:\n",
    "        res['codigo_na_linha'] = False\n",
    "\n",
    "    # 2) moeda (esperamos 9 na sua regra original)\n",
    "    try:\n",
    "        res['moeda_igual_9'] = (int(dado_series['linha_moeda']) == 9)\n",
    "    except:\n",
    "        res['moeda_igual_9'] = False\n",
    "\n",
    "    # 3) valor no final da linha corresponde ao valor (centavos)\n",
    "    try:\n",
    "        valor_cent = int(round(float(dado_series['valor']) * 100))\n",
    "        res['valor_bate'] = (int(dado_series['linha_valor']) == valor_cent)\n",
    "    except:\n",
    "        res['valor_bate'] = False\n",
    "\n",
    "    # 4) agencia pertence ao banco (se soubermos o banco)\n",
    "    try:\n",
    "        banco_id = int(dado_series['banco'])\n",
    "        banco_nome = id_to_name.get(banco_id, None)\n",
    "        if banco_nome and banco_nome in agencias_validas:\n",
    "            res['agencia_valida'] = (str(int(dado_series['agencia'])).zfill(4) in agencias_validas[banco_nome])\n",
    "        else:\n",
    "            res['agencia_valida'] = None  # não sabemos\n",
    "    except:\n",
    "        res['agencia_valida'] = None\n",
    "\n",
    "    return res"
   ]
  },
  {
   "cell_type": "markdown",
   "id": "afd25cad",
   "metadata": {},
   "source": [
    "## Função robusta para pegar vetor SHAP para a amostra e classe predita"
   ]
  },
  {
   "cell_type": "code",
   "execution_count": null,
   "id": "0122cef3",
   "metadata": {},
   "outputs": [],
   "source": [
    "def pegar_shap_vector_para_amostra(shap_exp, pred):\n",
    "    \"\"\"Retorna 1D numpy array de shap values correspondente à classe pred (robusto para dims).\"\"\"\n",
    "    vals = shap_exp.values  # pode ser (n_samples, n_classes, n_features) ou (n_samples, n_features)\n",
    "    # garantir primeiro eixo seja amostra 0 (já estamos pedindo explainer(dado) -> 1 amostra)\n",
    "    if isinstance(vals, np.ndarray):\n",
    "        if vals.ndim == 3:\n",
    "            # (1, n_classes, n_features)\n",
    "            v = vals[0][int(pred)]\n",
    "        elif vals.ndim == 2:\n",
    "            # (1, n_features) ou (n_samples, n_features)\n",
    "            v = vals[0]\n",
    "        else:\n",
    "            v = np.asarray(vals).ravel()\n",
    "    else:\n",
    "        # fallback: tentar converter\n",
    "        v = np.asarray(vals).ravel()\n",
    "    return np.asarray(v, dtype=float)\n"
   ]
  },
  {
   "cell_type": "code",
   "execution_count": null,
   "id": "fa39d73c",
   "metadata": {},
   "outputs": [],
   "source": [
    "\n",
    "\n",
    "def explicar_predicao(explainer, dado_df, features, model, thresh_shap=0.001):\n",
    "    \"\"\"\n",
    "    dado_df: DataFrame 1xN com colunas = features\n",
    "    retorna (texto_para_usuario, debug_dict)\n",
    "    \"\"\"\n",
    "    debug = {}\n",
    "    # pred e prob\n",
    "    pred = int(model.predict(dado_df)[0])\n",
    "    prob = model.predict_proba(dado_df)[0].tolist()\n",
    "    debug['pred'] = pred\n",
    "    debug['prob'] = prob\n",
    "\n",
    "    # regras\n",
    "    checks = regras_simples_check(dado_df.iloc[0])\n",
    "    debug['rules'] = checks\n",
    "\n",
    "    # SHAP\n",
    "    shap_exp = explainer(dado_df)\n",
    "    try:\n",
    "        shap_vec = pegar_shap_vector_para_amostra(shap_exp, pred)  # 1D\n",
    "        debug['shap_vec'] = shap_vec.tolist()\n",
    "    except Exception as e:\n",
    "        shap_vec = None\n",
    "        debug['shap_error'] = str(e)\n",
    "\n",
    "    # montar mensagens amigáveis:\n",
    "    msgs = []\n",
    "    # priorize regras determinísticas (são claras e rastreáveis)\n",
    "    if checks.get('codigo_na_linha') is False:\n",
    "        msgs.append(\"➡ O código do banco na linha digitável não confere com o código informado.\")\n",
    "    if checks.get('moeda_igual_9') is False:\n",
    "        msgs.append(\"➡ O dígito de moeda na linha digitável está diferente do esperado.\")\n",
    "    if checks.get('valor_bate') is False:\n",
    "        msgs.append(\"➡ O valor no final da linha digitável não confere com o valor informado no boleto.\")\n",
    "    if checks.get('agencia_valida') is False:\n",
    "        msgs.append(\"➡ A agência informada provavelmente não pertence ao banco indicado.\")\n",
    "    # se alguma regra devolveu None (não sabemos), não mostramos nada automático\n",
    "\n",
    "    # Agora usar shap_vec para completar explicações (sem termos técnicos)\n",
    "    if shap_vec is not None:\n",
    "        for i, v in enumerate(shap_vec):\n",
    "            if abs(v) > thresh_shap:\n",
    "                fname = features[i]\n",
    "                if fname == 'banco':\n",
    "                    if v < 0:\n",
    "                        msgs.append(\"➡ O banco informado tem evidência negativa (fez o modelo inclinar para 'falso').\")\n",
    "                    else:\n",
    "                        msgs.append(\"➡ O banco informado tem evidência positiva (ajudou a indicar 'verdadeiro').\")\n",
    "                elif fname == 'codigoBanco':\n",
    "                    if v < 0:\n",
    "                        msgs.append(\"➡ O código do banco pushou a decisão para 'falso'.\")\n",
    "                elif fname == 'valor':\n",
    "                    if v < 0:\n",
    "                        msgs.append(\"➡ O valor observado diminuiu a confiança do modelo (sinal de suspeita).\")\n",
    "                elif fname == 'agencia':\n",
    "                    if v < 0:\n",
    "                        msgs.append(\"➡ A agência contribuiu para indicar 'falso'.\")\n",
    "\n",
    "    # deduplicar mensagens mantendo ordem\n",
    "    seen = set()\n",
    "    msgs_ord = []\n",
    "    for m in msgs:\n",
    "        if m not in seen:\n",
    "            msgs_ord.append(m)\n",
    "            seen.add(m)\n",
    "\n",
    "    # montar texto final curto para usuário\n",
    "    status = \"VERDADEIRO ✅\" if pred == 1 else \"FALSO ❌\"\n",
    "    if msgs_ord:\n",
    "        texto_usuario = f\"Resultado da análise: {status}\\n\\nPrincipais motivos detectados:\\n\" + \"\\n\".join(msgs_ord)\n",
    "    else:\n",
    "        texto_usuario = f\"Resultado da análise: {status}\\n\\nNenhuma inconsistência clara foi detectada automaticamente.\"\n",
    "\n",
    "    # DEBUG: incluir shap_exp e base_values se quiser log\n",
    "    debug['shap_base'] = getattr(shap_exp, 'base_values', None)\n",
    "    return texto_usuario, debug, shap_exp\n"
   ]
  },
  {
   "cell_type": "markdown",
   "id": "f71bfe8c",
   "metadata": {},
   "source": [
    "### Testes com exemplos"
   ]
  },
  {
   "cell_type": "code",
   "execution_count": null,
   "id": "fbd8f1e0",
   "metadata": {},
   "outputs": [
    {
     "name": "stdout",
     "output_type": "stream",
     "text": [
      "\n",
      "========================================\n",
      "Processando boleto 1\n",
      "Resultado da análise: FALSO ❌\n",
      "\n",
      "Principais motivos detectados:\n",
      "➡ O código do banco na linha digitável não confere com o código informado.\n",
      "➡ O dígito de moeda na linha digitável está diferente do esperado.\n",
      "➡ O banco informado tem evidência positiva (ajudou a indicar 'verdadeiro').\n",
      "➡ O código do banco pushou a decisão para 'falso'.\n",
      "\n",
      "[LOG TÉCNICO resumido]\n",
      "pred: 0 prob: [0.97, 0.03]\n",
      "rules: {'codigo_na_linha': False, 'moeda_igual_9': False, 'valor_bate': True, 'agencia_valida': None}\n",
      "shap_vec (top 7): [ 0.00361 -0.00361]\n",
      "Gerando gráfico (waterfall).\n"
     ]
    },
    {
     "data": {
      "image/png": "[encoded data removed]",
      "text/plain": [
       "<Figure size 800x250 with 3 Axes>"
      ]
     },
     "metadata": {},
     "output_type": "display_data"
    },
    {
     "name": "stdout",
     "output_type": "stream",
     "text": [
      "\n",
      "========================================\n",
      "Processando boleto 2\n",
      "Resultado da análise: FALSO ❌\n",
      "\n",
      "Principais motivos detectados:\n",
      "➡ O código do banco na linha digitável não confere com o código informado.\n",
      "➡ O dígito de moeda na linha digitável está diferente do esperado.\n",
      "➡ O valor no final da linha digitável não confere com o valor informado no boleto.\n",
      "➡ O banco informado tem evidência positiva (ajudou a indicar 'verdadeiro').\n",
      "➡ O código do banco pushou a decisão para 'falso'.\n",
      "\n",
      "[LOG TÉCNICO resumido]\n",
      "pred: 0 prob: [0.98, 0.02]\n",
      "rules: {'codigo_na_linha': False, 'moeda_igual_9': False, 'valor_bate': False, 'agencia_valida': None}\n",
      "shap_vec (top 7): [ 0.002879 -0.002879]\n",
      "Gerando gráfico (waterfall).\n"
     ]
    },
    {
     "data": {
      "image/png": "[encoded data removed]",
      "text/plain": [
       "<Figure size 800x250 with 3 Axes>"
      ]
     },
     "metadata": {},
     "output_type": "display_data"
    }
   ],
   "source": [
    "testes = [\n",
    "    {  # Falso: OLIVEIRA TRUST (você disse que é falso)\n",
    "        'banco': 10, 'codigoBanco': 700, 'agencia': 712, 'valor': 834629.43,\n",
    "        'linha_codBanco': 111, 'linha_moeda': 0, 'linha_valor': 83462943\n",
    "    },\n",
    "    {  # Verdadeiro: (exemplo que você acha que é verdadeiro; se os dados não baterem, a regra detecta)\n",
    "        'banco': 12, 'codigoBanco': 188, 'agencia': 101, 'valor': 731538.0,\n",
    "        'linha_codBanco': 260, 'linha_moeda': 3, 'linha_valor': 94228611\n",
    "    }\n",
    "]\n",
    "features = ['banco', 'codigoBanco', 'agencia', 'valor', 'linha_codBanco', 'linha_moeda', 'linha_valor']\n",
    "\n",
    "for i, teste in enumerate(testes, start=1):\n",
    "    print(\"\\n\" + \"=\"*40)\n",
    "    print(f\"Processando boleto {i}\")\n",
    "    # garantir somente colunas/features esperadas\n",
    "    dado_teste = pd.DataFrame([teste])[features].astype(float)\n",
    "\n",
    "    texto_usuario, debug, shap_exp = explicar_predicao(explainer, dado_teste, features, model, thresh_shap=0.001)\n",
    "    print(texto_usuario)\n",
    "    # mostrar debug técnico (útil para você)\n",
    "    print(\"\\n[Algo mais técnico resumido]\")\n",
    "    print(\"pred:\", debug.get('pred'), \"prob:\", debug.get('prob'))\n",
    "    print(\"rules:\", debug.get('rules'))\n",
    "    if 'shap_vec' in debug:\n",
    "        print(\"shap_vec (top 7):\", np.round(np.array(debug['shap_vec']), 6))\n",
    "    if 'shap_error' in debug:\n",
    "        print(\"shap_error:\", debug['shap_error'])\n",
    "\n",
    "    # Tentar plotar um gráfico SHAP amigável (waterfall) — opcional e protegido por try/except\n",
    "    try:\n",
    "        # obter vetor de shap para a classe predita (1D)\n",
    "        pred = int(debug.get('pred'))\n",
    "        shap_vec = pegar_shap_vector_para_amostra(shap_exp, pred)\n",
    "        base_val = shap_exp.base_values[0] if np.ndim(shap_exp.base_values) == 0 else shap_exp.base_values[0][pred]\n",
    "        # criar Explanation manual (compatível com waterfall)\n",
    "        expl_for_plot = shap.Explanation(values=shap_vec, base_values=base_val,\n",
    "                                         data=dado_teste.iloc[0].to_numpy(), feature_names=features)\n",
    "        print(\"Gerando gráfico (waterfall).\")\n",
    "        shap.plots.waterfall(expl_for_plot, max_display=len(features))\n",
    "        plt.show()\n",
    "    except Exception as e:\n",
    "        print(\"Falha ao gerar gráfico SHAP (somente log):\", str(e))\n"
   ]
  }
 ],
 "metadata": {
  "kernelspec": {
   "display_name": ".venv",
   "language": "python",
   "name": "python3"
  },
  "language_info": {
   "codemirror_mode": {
    "name": "ipython",
    "version": 3
   },
   "file_extension": ".py",
   "mimetype": "text/x-python",
   "name": "python",
   "nbconvert_exporter": "python",
   "pygments_lexer": "ipython3",
   "version": "3.11.9"
  }
 },
 "nbformat": 4,
 "nbformat_minor": 5
}
