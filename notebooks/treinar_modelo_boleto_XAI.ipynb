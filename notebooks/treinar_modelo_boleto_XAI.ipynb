{
 "cells": [
  {
   "cell_type": "markdown",
   "id": "ee1c663a",
   "metadata": {},
   "source": [
    "# # Treinamento do Modelo de Detecção de Boletos"
   ]
  },
  {
   "cell_type": "markdown",
   "id": "7a685e78",
   "metadata": {},
   "source": [
    "### Imports"
   ]
  },
  {
   "cell_type": "code",
   "execution_count": null,
   "id": "d5de3140",
   "metadata": {},
   "outputs": [],
   "source": [
    "import pandas as pd\n",
    "import json\n",
    "import numpy as np\n",
    "from sklearn.ensemble import RandomForestClassifier\n",
    "from sklearn.model_selection import train_test_split\n",
    "from sklearn.metrics import accuracy_score, classification_report, confusion_matrix\n",
    "from sklearn.metrics import ConfusionMatrixDisplay\n",
    "import matplotlib.pyplot as plt\n",
    "import pickle\n",
    "import shap\n",
    "import os\n"
   ]
  },
  {
   "cell_type": "code",
   "execution_count": null,
   "id": "2fa5dfa7",
   "metadata": {},
   "outputs": [],
   "source": [
    "MODEL_PATH = 'modelo/modelo_boleto.pkl'"
   ]
  },
  {
   "cell_type": "markdown",
   "id": "4cec88de",
   "metadata": {},
   "source": [
    "### # 2. Carregamento e Prepara os Dados"
   ]
  },
  {
   "cell_type": "code",
   "execution_count": null,
   "id": "03180181",
   "metadata": {},
   "outputs": [],
   "source": [
    "try:\n",
    "    with open('completos.json', 'r', encoding='utf-8') as f:\n",
    "        dados = json.load(f)\n",
    "except FileNotFoundError:\n",
    "    print(\"Erro: Arquivo completos.json não encontrado.\")\n",
    "    exit(1)\n",
    "\n",
    "df = pd.DataFrame(dados)\n",
    "print('Dados carregados:')\n",
    "print(df.head())\n"
   ]
  },
  {
   "cell_type": "markdown",
   "id": "1e4db930",
   "metadata": {},
   "source": [
    "### # Mapear bancos para índices numéricos"
   ]
  },
  {
   "cell_type": "code",
   "execution_count": null,
   "id": "35b65c19",
   "metadata": {},
   "outputs": [
    {
     "ename": "NameError",
     "evalue": "name 'df' is not defined",
     "output_type": "error",
     "traceback": [
      "\u001b[31m---------------------------------------------------------------------------\u001b[39m",
      "\u001b[31mNameError\u001b[39m                                 Traceback (most recent call last)",
      "\u001b[36mCell\u001b[39m\u001b[36m \u001b[39m\u001b[32mIn[4]\u001b[39m\u001b[32m, line 22\u001b[39m\n\u001b[32m      1\u001b[39m mapeamento_bancos = {\n\u001b[32m      2\u001b[39m     \u001b[33m'\u001b[39m\u001b[33mBanco do Brasil\u001b[39m\u001b[33m'\u001b[39m: \u001b[32m0\u001b[39m,\n\u001b[32m      3\u001b[39m     \u001b[33m'\u001b[39m\u001b[33mItaú\u001b[39m\u001b[33m'\u001b[39m: \u001b[32m1\u001b[39m,\n\u001b[32m   (...)\u001b[39m\u001b[32m     20\u001b[39m     \u001b[33m'\u001b[39m\u001b[33mSOCRED S.A. – SOCIEDADE DE CRÉDITO AO MICROEMPREENDEDOR E À EMPRESA DE PEQUENO P\u001b[39m\u001b[33m'\u001b[39m: \u001b[32m17\u001b[39m\n\u001b[32m     21\u001b[39m }\n\u001b[32m---> \u001b[39m\u001b[32m22\u001b[39m df[\u001b[33m'\u001b[39m\u001b[33mbanco\u001b[39m\u001b[33m'\u001b[39m] = \u001b[43mdf\u001b[49m[\u001b[33m'\u001b[39m\u001b[33mbanco\u001b[39m\u001b[33m'\u001b[39m].map(mapeamento_bancos).fillna(\u001b[32m0\u001b[39m).astype(\u001b[38;5;28mfloat\u001b[39m)\n",
      "\u001b[31mNameError\u001b[39m: name 'df' is not defined"
     ]
    }
   ],
   "source": [
    "mapeamento_bancos = {\n",
    "    'Banco do Brasil': 0,\n",
    "    'Itaú': 1,\n",
    "    'Bradesco': 2,\n",
    "    'Santander': 3,\n",
    "    'Caixa Econômica': 4,\n",
    "    'Banco Digio S.A.': 5,\n",
    "    'CM CAPITAL MARKETS CORRETORA DE CÂMBIO, TÍTULOS E VALORES MOBILIÁRIOS LTDA': 6,\n",
    "    'Banco Clássico S.A.': 7,\n",
    "    'Credialiança Cooperativa de Crédito Rural': 8,\n",
    "    'CREDICOAMO CREDITO RURAL COOPERATIVA': 9,\n",
    "    # Bancos falsos\n",
    "    'OLIVEIRA TRUST DISTRIBUIDORA DE TÍTULOS E VALORES MOBILIARIOS S.A.': 10,\n",
    "    'Pagseguro Internet S.A. – PagBank': 11,\n",
    "    'NU Pagamentos S.A. – Nubank': 12,\n",
    "    'ATIVA INVESTIMENTOS S.A. CORRETORA DE TÍTULOS, CÂMBIO E VALORES': 13,\n",
    "    'Banco Inbursa S.A.': 14,\n",
    "    'SOROCRED CRÉDITO, FINANCIAMENTO E INVESTIMENTO S.A.': 15,\n",
    "    'Banco Finaxis S.A.': 16,\n",
    "    'SOCRED S.A. – SOCIEDADE DE CRÉDITO AO MICROEMPREENDEDOR E À EMPRESA DE PEQUENO P': 17\n",
    "}\n",
    "df['banco'] = df['banco'].map(mapeamento_bancos).fillna(0).astype(float)\n",
    "\n",
    "\n",
    "# Mapear classe\n",
    "df['classe'] = df['classe'].map({\n",
    "    'caracteristicasVerdadeiras': 1,\n",
    "    'caracteristicasFalsas': 0\n",
    "}).astype(float)"
   ]
  },
  {
   "cell_type": "markdown",
   "id": "636e93bf",
   "metadata": {},
   "source": [
    "### # Processar linha digitável e selecionar as features"
   ]
  },
  {
   "cell_type": "code",
   "execution_count": null,
   "id": "ce6daccc",
   "metadata": {},
   "outputs": [],
   "source": [
    "df['linhaDigitavel'] = df['linhaDigitavel'].str.replace(' ', '').str.replace('.', '').astype(str)\n",
    "df['linha_codBanco'] = df['linhaDigitavel'].str.slice(0, 3).fillna('0').astype(float)\n",
    "df['linha_moeda'] = df['linhaDigitavel'].str.slice(3, 4).fillna('9').astype(float)\n",
    "df['linha_valor'] = df['linhaDigitavel'].str.slice(-10).fillna('0').astype(float)\n",
    "\n",
    "# Selecionar features\n",
    "features = ['banco', 'codigoBanco', 'agenciaBanco', 'valorDocumento', 'linha_codBanco', 'linha_moeda', 'linha_valor']\n",
    "X = df[features].fillna(0).astype(float)\n",
    "y = df['classe'].fillna(0).astype(float)\n",
    "\n",
    "print('Features preparadas:')\n",
    "print(X.head())"
   ]
  },
  {
   "cell_type": "markdown",
   "id": "a010d3e3",
   "metadata": {},
   "source": [
    "### Divisão dos dados"
   ]
  },
  {
   "cell_type": "code",
   "execution_count": null,
   "id": "71201392",
   "metadata": {},
   "outputs": [],
   "source": [
    "X_train, X_test, y_train, y_test = train_test_split(X, y, test_size=0.2, random_state=42)\n",
    "print(f'Treino: {X_train.shape}, Teste: {X_test.shape}')"
   ]
  },
  {
   "cell_type": "markdown",
   "id": "6d0a65ef",
   "metadata": {},
   "source": [
    "### Treinar o modelo"
   ]
  },
  {
   "cell_type": "code",
   "execution_count": null,
   "id": "92f3c0f2",
   "metadata": {},
   "outputs": [],
   "source": [
    "model = RandomForestClassifier(random_state=42)\n",
    "model.fit(X_train, y_train)\n",
    "\n",
    "\n",
    "# Avaliar\n",
    "y_pred = model.predict(X_test)\n",
    "print('Acurácia:', accuracy_score(y_test, y_pred))\n",
    "print('Classification Report:')\n",
    "print(classification_report(y_test, y_pred, target_names=['Falso', 'Verdadeiro']))\n"
   ]
  },
  {
   "cell_type": "markdown",
   "id": "14a32c7e",
   "metadata": {},
   "source": [
    "## Análise com SHAP - XAI"
   ]
  },
  {
   "cell_type": "code",
   "execution_count": null,
   "id": "63931f59",
   "metadata": {},
   "outputs": [],
   "source": [
    "# 5. Análise com SHAP\n",
    "explainer = shap.TreeExplainer(model)\n",
    "shap_values = explainer.shap_values(X_test)"
   ]
  },
  {
   "cell_type": "markdown",
   "id": "02001994",
   "metadata": {},
   "source": [
    "## # Plotar resumo para a classe 'Falso' (índice 0)"
   ]
  },
  {
   "cell_type": "code",
   "execution_count": null,
   "id": "136f9c76",
   "metadata": {},
   "outputs": [],
   "source": [
    "shap.summary_plot(shap_values[0], X_test, plot_type='bar', feature_names=features, show=False)\n",
    "plt.title('Importância das Features para Classe Falso')\n",
    "plt.tight_layout()\n",
    "plt.show()"
   ]
  },
  {
   "cell_type": "markdown",
   "id": "e963082d",
   "metadata": {},
   "source": [
    "### # Plotar resumo para a classe 'Verdadeiro' (índice 1)\n"
   ]
  },
  {
   "cell_type": "code",
   "execution_count": null,
   "id": "fe266649",
   "metadata": {},
   "outputs": [],
   "source": [
    "shap.summary_plot(shap_values[1], X_test, plot_type='bar', feature_names=features, show=False)\n",
    "plt.title('Importância das Features para Classe Verdadeiro')\n",
    "plt.tight_layout()\n",
    "plt.show()"
   ]
  },
  {
   "cell_type": "markdown",
   "id": "fac7c22f",
   "metadata": {},
   "source": [
    "### Salvar o modelo"
   ]
  },
  {
   "cell_type": "code",
   "execution_count": null,
   "id": "f9d8a2e5",
   "metadata": {},
   "outputs": [],
   "source": [
    "pickle.dump(model, open(MODEL_PATH, 'wb'))\n",
    "print(f'✅ Modelo salvo em: {MODEL_PATH}')\n",
    "\n",
    "# 7. Teste com Exemplos\n",
    "testes = [\n",
    "    {  # Falso: OLIVEIRA TRUST\n",
    "        'banco': 10,\n",
    "        'codigoBanco': 700,\n",
    "        'agenciaBanco': 712,\n",
    "        'valorDocumento': 834629.43,\n",
    "        'linha_codBanco': 111,\n",
    "        'linha_moeda': 0,\n",
    "        'linha_valor': 83462943\n",
    "    },\n",
    "    {  # Verdadeiro: Nubank\n",
    "        'banco': 12,\n",
    "        'codigoBanco': 188,\n",
    "        'agenciaBanco': 101,\n",
    "        'valorDocumento': 731538.0,\n",
    "        'linha_codBanco': 260,\n",
    "        'linha_moeda': 3,\n",
    "        'linha_valor': 94228611\n",
    "    }\n",
    "]\n",
    "\n",
    "for i, teste in enumerate(testes):\n",
    "    dado_teste = pd.DataFrame([teste]).astype(float)\n",
    "    pred = model.predict(dado_teste)[0]\n",
    "    prob = model.predict_proba(dado_teste)[0].tolist()\n",
    "    print(f'Boleto {i+1}: Predição = {\"Verdadeiro\" if pred == 1 else \"Falso\"}, Probabilidades = {prob}')\n",
    "    \n",
    "    # Explicações SHAP para o teste\n",
    "    shap_values_teste = explainer.shap_values(dado_teste)\n",
    "    shap.initjs()\n",
    "    shap.force_plot(explainer.expected_value[0], shap_values_teste[0], dado_teste, feature_names=features)\n",
    "```"
   ]
  }
 ],
 "metadata": {
  "kernelspec": {
   "display_name": ".venv",
   "language": "python",
   "name": "python3"
  },
  "language_info": {
   "codemirror_mode": {
    "name": "ipython",
    "version": 3
   },
   "file_extension": ".py",
   "mimetype": "text/x-python",
   "name": "python",
   "nbconvert_exporter": "python",
   "pygments_lexer": "ipython3",
   "version": "3.11.9"
  }
 },
 "nbformat": 4,
 "nbformat_minor": 5
}
